{
 "cells": [
  {
   "cell_type": "markdown",
   "id": "ea63cd0b-9873-4afd-815c-35a056bc0e37",
   "metadata": {},
   "source": [
    "# Order Latency Data\n",
    "\n",
    "To obtain more realistic backtesting results, accounting for latencies is crucial. Therefore, it's important to collect both feed data and order data with timestamps to measure your order latency. The best approach is to gather your own order latencies. You can collect order latency based on your live trading or by regularly submitting orders at a price that cannot be filled and then canceling them for recording purposes. However, if you don't have access to them or want to establish a target, you will need to artificially generate order latency. You can model this latency based on factors such as feed latency, trade volume, and the number of events. In this guide, we will demonstrate a simple method to generate order latency from feed latency using a multiplier and offset for adjustment."
   ]
  },
  {
   "cell_type": "markdown",
   "id": "ce73ae54-2e57-489e-919e-d1f9271f4461",
   "metadata": {},
   "source": [
    "First, loads the feed data."
   ]
  },
  {
   "cell_type": "code",
   "execution_count": 1,
   "id": "ab04f05e-259b-4a68-b701-1df3f2c19a82",
   "metadata": {},
   "outputs": [
    {
     "data": {
      "text/plain": [
       "array([(3758096385, 1724889599996000000, 1724889600016258443, 59008.1,    0., 0, 0, 0.),\n",
       "       (3758096385, 1724889599996000000, 1724889600016258443, 58999.7,    0., 0, 0, 0.),\n",
       "       (3758096385, 1724889599996000000, 1724889600016258443, 58999.6, 2119., 0, 0, 0.),\n",
       "       ...,\n",
       "       (3758096385, 1724975999982000000, 1724975999997128781, 59302.9,    0., 0, 0, 0.),\n",
       "       (3758096385, 1724975999982000000, 1724975999997128781, 59302.1,    0., 0, 0, 0.),\n",
       "       (3489660929, 1724975999982000000, 1724975999997128781, 59343.3,    0., 0, 0, 0.)],\n",
       "      dtype=[('ev', '<u8'), ('exch_ts', '<i8'), ('local_ts', '<i8'), ('px', '<f8'), ('qty', '<f8'), ('order_id', '<u8'), ('ival', '<i8'), ('fval', '<f8')])"
      ]
     },
     "execution_count": 1,
     "metadata": {},
     "output_type": "execute_result"
    }
   ],
   "source": [
    "import numpy as np\n",
    "\n",
    "data = np.load('gate/btc_usdt_20240829.npz')['data']\n",
    "data"
   ]
  },
  {
   "cell_type": "markdown",
   "id": "ef2deb8c-4cd3-44ad-a639-b42f126be63a",
   "metadata": {},
   "source": [
    "For easy manipulation, converts it into a DataFrame."
   ]
  },
  {
   "cell_type": "code",
   "execution_count": 2,
   "id": "bb32210a-34b6-489d-b32d-0522ce9daa97",
   "metadata": {},
   "outputs": [
    {
     "data": {
      "text/html": [
       "<div><style>\n",
       ".dataframe > thead > tr,\n",
       ".dataframe > tbody > tr {\n",
       "  text-align: right;\n",
       "  white-space: pre-wrap;\n",
       "}\n",
       "</style>\n",
       "<small>shape: (40_962_601, 8)</small><table border=\"1\" class=\"dataframe\"><thead><tr><th>ev</th><th>exch_ts</th><th>local_ts</th><th>px</th><th>qty</th><th>order_id</th><th>ival</th><th>fval</th></tr><tr><td>u64</td><td>i64</td><td>i64</td><td>f64</td><td>f64</td><td>u64</td><td>i64</td><td>f64</td></tr></thead><tbody><tr><td>3758096385</td><td>1724889599996000000</td><td>1724889600016258443</td><td>59008.1</td><td>0.0</td><td>0</td><td>0</td><td>0.0</td></tr><tr><td>3758096385</td><td>1724889599996000000</td><td>1724889600016258443</td><td>58999.7</td><td>0.0</td><td>0</td><td>0</td><td>0.0</td></tr><tr><td>3758096385</td><td>1724889599996000000</td><td>1724889600016258443</td><td>58999.6</td><td>2119.0</td><td>0</td><td>0</td><td>0.0</td></tr><tr><td>3758096385</td><td>1724889599996000000</td><td>1724889600016258443</td><td>58992.0</td><td>0.0</td><td>0</td><td>0</td><td>0.0</td></tr><tr><td>3489660929</td><td>1724889599996000000</td><td>1724889600016258443</td><td>59021.8</td><td>6434.0</td><td>0</td><td>0</td><td>0.0</td></tr><tr><td>&hellip;</td><td>&hellip;</td><td>&hellip;</td><td>&hellip;</td><td>&hellip;</td><td>&hellip;</td><td>&hellip;</td><td>&hellip;</td></tr><tr><td>3758096385</td><td>1724975999864000000</td><td>1724975999877134412</td><td>59278.5</td><td>0.0</td><td>0</td><td>0</td><td>0.0</td></tr><tr><td>3489660929</td><td>1724975999882000000</td><td>1724975999897689282</td><td>59343.4</td><td>0.0</td><td>0</td><td>0</td><td>0.0</td></tr><tr><td>3758096385</td><td>1724975999982000000</td><td>1724975999997128781</td><td>59302.9</td><td>0.0</td><td>0</td><td>0</td><td>0.0</td></tr><tr><td>3758096385</td><td>1724975999982000000</td><td>1724975999997128781</td><td>59302.1</td><td>0.0</td><td>0</td><td>0</td><td>0.0</td></tr><tr><td>3489660929</td><td>1724975999982000000</td><td>1724975999997128781</td><td>59343.3</td><td>0.0</td><td>0</td><td>0</td><td>0.0</td></tr></tbody></table></div>"
      ],
      "text/plain": [
       "shape: (40_962_601, 8)\n",
       "┌────────────┬────────────────────┬────────────────────┬─────────┬────────┬──────────┬──────┬──────┐\n",
       "│ ev         ┆ exch_ts            ┆ local_ts           ┆ px      ┆ qty    ┆ order_id ┆ ival ┆ fval │\n",
       "│ ---        ┆ ---                ┆ ---                ┆ ---     ┆ ---    ┆ ---      ┆ ---  ┆ ---  │\n",
       "│ u64        ┆ i64                ┆ i64                ┆ f64     ┆ f64    ┆ u64      ┆ i64  ┆ f64  │\n",
       "╞════════════╪════════════════════╪════════════════════╪═════════╪════════╪══════════╪══════╪══════╡\n",
       "│ 3758096385 ┆ 172488959999600000 ┆ 172488960001625844 ┆ 59008.1 ┆ 0.0    ┆ 0        ┆ 0    ┆ 0.0  │\n",
       "│            ┆ 0                  ┆ 3                  ┆         ┆        ┆          ┆      ┆      │\n",
       "│ 3758096385 ┆ 172488959999600000 ┆ 172488960001625844 ┆ 58999.7 ┆ 0.0    ┆ 0        ┆ 0    ┆ 0.0  │\n",
       "│            ┆ 0                  ┆ 3                  ┆         ┆        ┆          ┆      ┆      │\n",
       "│ 3758096385 ┆ 172488959999600000 ┆ 172488960001625844 ┆ 58999.6 ┆ 2119.0 ┆ 0        ┆ 0    ┆ 0.0  │\n",
       "│            ┆ 0                  ┆ 3                  ┆         ┆        ┆          ┆      ┆      │\n",
       "│ 3758096385 ┆ 172488959999600000 ┆ 172488960001625844 ┆ 58992.0 ┆ 0.0    ┆ 0        ┆ 0    ┆ 0.0  │\n",
       "│            ┆ 0                  ┆ 3                  ┆         ┆        ┆          ┆      ┆      │\n",
       "│ 3489660929 ┆ 172488959999600000 ┆ 172488960001625844 ┆ 59021.8 ┆ 6434.0 ┆ 0        ┆ 0    ┆ 0.0  │\n",
       "│            ┆ 0                  ┆ 3                  ┆         ┆        ┆          ┆      ┆      │\n",
       "│ …          ┆ …                  ┆ …                  ┆ …       ┆ …      ┆ …        ┆ …    ┆ …    │\n",
       "│ 3758096385 ┆ 172497599986400000 ┆ 172497599987713441 ┆ 59278.5 ┆ 0.0    ┆ 0        ┆ 0    ┆ 0.0  │\n",
       "│            ┆ 0                  ┆ 2                  ┆         ┆        ┆          ┆      ┆      │\n",
       "│ 3489660929 ┆ 172497599988200000 ┆ 172497599989768928 ┆ 59343.4 ┆ 0.0    ┆ 0        ┆ 0    ┆ 0.0  │\n",
       "│            ┆ 0                  ┆ 2                  ┆         ┆        ┆          ┆      ┆      │\n",
       "│ 3758096385 ┆ 172497599998200000 ┆ 172497599999712878 ┆ 59302.9 ┆ 0.0    ┆ 0        ┆ 0    ┆ 0.0  │\n",
       "│            ┆ 0                  ┆ 1                  ┆         ┆        ┆          ┆      ┆      │\n",
       "│ 3758096385 ┆ 172497599998200000 ┆ 172497599999712878 ┆ 59302.1 ┆ 0.0    ┆ 0        ┆ 0    ┆ 0.0  │\n",
       "│            ┆ 0                  ┆ 1                  ┆         ┆        ┆          ┆      ┆      │\n",
       "│ 3489660929 ┆ 172497599998200000 ┆ 172497599999712878 ┆ 59343.3 ┆ 0.0    ┆ 0        ┆ 0    ┆ 0.0  │\n",
       "│            ┆ 0                  ┆ 1                  ┆         ┆        ┆          ┆      ┆      │\n",
       "└────────────┴────────────────────┴────────────────────┴─────────┴────────┴──────────┴──────┴──────┘"
      ]
     },
     "execution_count": 2,
     "metadata": {},
     "output_type": "execute_result"
    }
   ],
   "source": [
    "import polars as pl\n",
    "\n",
    "df = pl.DataFrame(data)\n",
    "df"
   ]
  },
  {
   "cell_type": "markdown",
   "id": "0a2f5db2-b6ab-420d-b5f9-0ca8e123607b",
   "metadata": {},
   "source": [
    "Selects only the events that have both a valid exchange timestamp and a valid local timestamp to get feed latency."
   ]
  },
  {
   "cell_type": "code",
   "execution_count": 3,
   "id": "349335b0-50a4-4e3a-a721-c55388d71b01",
   "metadata": {},
   "outputs": [],
   "source": [
    "from hftbacktest import EXCH_EVENT, LOCAL_EVENT\n",
    "\n",
    "df = df.filter((pl.col('ev') & EXCH_EVENT == EXCH_EVENT) & (pl.col('ev') & LOCAL_EVENT == LOCAL_EVENT))"
   ]
  },
  {
   "cell_type": "markdown",
   "id": "e641eb14-5370-4cc3-bf52-e940d94745a1",
   "metadata": {},
   "source": [
    "Reduces the number of rows by resampling to approximately 1-second intervals."
   ]
  },
  {
   "cell_type": "code",
   "execution_count": 4,
   "id": "577ad180-42ad-46f8-9723-1b2c9b14d9c2",
   "metadata": {},
   "outputs": [
    {
     "data": {
      "text/html": [
       "<div><style>\n",
       ".dataframe > thead > tr,\n",
       ".dataframe > tbody > tr {\n",
       "  text-align: right;\n",
       "  white-space: pre-wrap;\n",
       "}\n",
       "</style>\n",
       "<small>shape: (86_400, 2)</small><table border=\"1\" class=\"dataframe\"><thead><tr><th>exch_ts</th><th>local_ts</th></tr><tr><td>i64</td><td>i64</td></tr></thead><tbody><tr><td>1724889600934000000</td><td>1724889600956409830</td></tr><tr><td>1724889601976000000</td><td>1724889601996377936</td></tr><tr><td>1724889602981000000</td><td>1724889602995114123</td></tr><tr><td>1724889603982000000</td><td>1724889603996405400</td></tr><tr><td>1724889604980000000</td><td>1724889604996802657</td></tr><tr><td>&hellip;</td><td>&hellip;</td></tr><tr><td>1724975995975000000</td><td>1724975995996533148</td></tr><tr><td>1724975996940000000</td><td>1724975996956210624</td></tr><tr><td>1724975997942000000</td><td>1724975997956611480</td></tr><tr><td>1724975998984000000</td><td>1724975998999567244</td></tr><tr><td>1724975999982000000</td><td>1724975999997128781</td></tr></tbody></table></div>"
      ],
      "text/plain": [
       "shape: (86_400, 2)\n",
       "┌─────────────────────┬─────────────────────┐\n",
       "│ exch_ts             ┆ local_ts            │\n",
       "│ ---                 ┆ ---                 │\n",
       "│ i64                 ┆ i64                 │\n",
       "╞═════════════════════╪═════════════════════╡\n",
       "│ 1724889600934000000 ┆ 1724889600956409830 │\n",
       "│ 1724889601976000000 ┆ 1724889601996377936 │\n",
       "│ 1724889602981000000 ┆ 1724889602995114123 │\n",
       "│ 1724889603982000000 ┆ 1724889603996405400 │\n",
       "│ 1724889604980000000 ┆ 1724889604996802657 │\n",
       "│ …                   ┆ …                   │\n",
       "│ 1724975995975000000 ┆ 1724975995996533148 │\n",
       "│ 1724975996940000000 ┆ 1724975996956210624 │\n",
       "│ 1724975997942000000 ┆ 1724975997956611480 │\n",
       "│ 1724975998984000000 ┆ 1724975998999567244 │\n",
       "│ 1724975999982000000 ┆ 1724975999997128781 │\n",
       "└─────────────────────┴─────────────────────┘"
      ]
     },
     "execution_count": 4,
     "metadata": {},
     "output_type": "execute_result"
    }
   ],
   "source": [
    "df = df.with_columns(\n",
    "    pl.col('local_ts').alias('ts')\n",
    ").group_by_dynamic(\n",
    "    'ts', every='1000000000i'\n",
    ").agg(\n",
    "    pl.col('exch_ts').last(),\n",
    "    pl.col('local_ts').last()\n",
    ").drop('ts')\n",
    "\n",
    "df"
   ]
  },
  {
   "cell_type": "markdown",
   "id": "7834be83-788e-48ae-92e9-0f01bda90cd5",
   "metadata": {},
   "source": [
    "Converts back to the structured NumPy array."
   ]
  },
  {
   "cell_type": "code",
   "execution_count": 5,
   "id": "d69e7709-d947-4e62-b5a4-c8f1e623de2a",
   "metadata": {},
   "outputs": [
    {
     "data": {
      "text/plain": [
       "array([(1724889600934000000, 1724889600956409830),\n",
       "       (1724889601976000000, 1724889601996377936),\n",
       "       (1724889602981000000, 1724889602995114123), ...,\n",
       "       (1724975997942000000, 1724975997956611480),\n",
       "       (1724975998984000000, 1724975998999567244),\n",
       "       (1724975999982000000, 1724975999997128781)],\n",
       "      dtype=[('exch_ts', '<i8'), ('local_ts', '<i8')])"
      ]
     },
     "execution_count": 5,
     "metadata": {},
     "output_type": "execute_result"
    }
   ],
   "source": [
    "data = df.to_numpy(structured=True)\n",
    "data"
   ]
  },
  {
   "cell_type": "markdown",
   "id": "4d67d41d-2ef7-4267-80e9-9bc7bbd5a271",
   "metadata": {},
   "source": [
    "Generates order latency. Order latency consists of two components: the latency until the order request reaches the exchange's matching engine and the latency until the response arrives backto the localy. Order latency is not the same as feed latency and does not need to be proportional to feed latency. However, for simplicity, we model order latency to be proportional to feed latency using a multiplier and offset."
   ]
  },
  {
   "cell_type": "code",
   "execution_count": 6,
   "id": "1de7a129-5856-473e-8453-effb1f3884cd",
   "metadata": {},
   "outputs": [
    {
     "data": {
      "text/plain": [
       "array([(1724889600956409830, 1724889601046049150, 1724889601113278640, 0),\n",
       "       (1724889601996377936, 1724889602077889680, 1724889602139023488, 0),\n",
       "       (1724889602995114123, 1724889603051570615, 1724889603093912984, 0),\n",
       "       ...,\n",
       "       (1724975997956611480, 1724975998015057400, 1724975998058891840, 0),\n",
       "       (1724975998999567244, 1724975999061836220, 1724975999108537952, 0),\n",
       "       (1724975999997128781, 1724976000057643905, 1724976000103030248, 0)],\n",
       "      dtype=[('req_ts', '<i8'), ('exch_ts', '<i8'), ('resp_ts', '<i8'), ('_padding', '<i8')])"
      ]
     },
     "execution_count": 6,
     "metadata": {},
     "output_type": "execute_result"
    }
   ],
   "source": [
    "mul_entry = 4\n",
    "offset_entry = 0\n",
    "\n",
    "mul_resp = 3\n",
    "offset_resp = 0\n",
    "\n",
    "order_latency = np.zeros(len(data), dtype=[('req_ts', 'i8'), ('exch_ts', 'i8'), ('resp_ts', 'i8'), ('_padding', 'i8')])\n",
    "for i, (exch_ts, local_ts) in enumerate(data):\n",
    "    feed_latency = local_ts - exch_ts\n",
    "    order_entry_latency = mul_entry * feed_latency + offset_entry\n",
    "    order_resp_latency = mul_resp * feed_latency + offset_resp\n",
    "\n",
    "    req_ts = local_ts\n",
    "    order_exch_ts = req_ts + order_entry_latency\n",
    "    resp_ts = order_exch_ts + order_resp_latency\n",
    "    \n",
    "    order_latency[i] = (req_ts, order_exch_ts, resp_ts, 0)\n",
    "    \n",
    "order_latency"
   ]
  },
  {
   "cell_type": "code",
   "execution_count": 7,
   "id": "cea9998d-ed9f-4ac0-aa0e-ecd791e717a5",
   "metadata": {},
   "outputs": [
    {
     "data": {
      "text/html": [
       "<div><style>\n",
       ".dataframe > thead > tr,\n",
       ".dataframe > tbody > tr {\n",
       "  text-align: right;\n",
       "  white-space: pre-wrap;\n",
       "}\n",
       "</style>\n",
       "<small>shape: (86_400, 4)</small><table border=\"1\" class=\"dataframe\"><thead><tr><th>req_ts</th><th>exch_ts</th><th>resp_ts</th><th>_padding</th></tr><tr><td>i64</td><td>i64</td><td>i64</td><td>i64</td></tr></thead><tbody><tr><td>1724889600956409830</td><td>1724889601046049150</td><td>1724889601113278640</td><td>0</td></tr><tr><td>1724889601996377936</td><td>1724889602077889680</td><td>1724889602139023488</td><td>0</td></tr><tr><td>1724889602995114123</td><td>1724889603051570615</td><td>1724889603093912984</td><td>0</td></tr><tr><td>1724889603996405400</td><td>1724889604054027000</td><td>1724889604097243200</td><td>0</td></tr><tr><td>1724889604996802657</td><td>1724889605064013285</td><td>1724889605114421256</td><td>0</td></tr><tr><td>&hellip;</td><td>&hellip;</td><td>&hellip;</td><td>&hellip;</td></tr><tr><td>1724975995996533148</td><td>1724975996082665740</td><td>1724975996147265184</td><td>0</td></tr><tr><td>1724975996956210624</td><td>1724975997021053120</td><td>1724975997069684992</td><td>0</td></tr><tr><td>1724975997956611480</td><td>1724975998015057400</td><td>1724975998058891840</td><td>0</td></tr><tr><td>1724975998999567244</td><td>1724975999061836220</td><td>1724975999108537952</td><td>0</td></tr><tr><td>1724975999997128781</td><td>1724976000057643905</td><td>1724976000103030248</td><td>0</td></tr></tbody></table></div>"
      ],
      "text/plain": [
       "shape: (86_400, 4)\n",
       "┌─────────────────────┬─────────────────────┬─────────────────────┬──────────┐\n",
       "│ req_ts              ┆ exch_ts             ┆ resp_ts             ┆ _padding │\n",
       "│ ---                 ┆ ---                 ┆ ---                 ┆ ---      │\n",
       "│ i64                 ┆ i64                 ┆ i64                 ┆ i64      │\n",
       "╞═════════════════════╪═════════════════════╪═════════════════════╪══════════╡\n",
       "│ 1724889600956409830 ┆ 1724889601046049150 ┆ 1724889601113278640 ┆ 0        │\n",
       "│ 1724889601996377936 ┆ 1724889602077889680 ┆ 1724889602139023488 ┆ 0        │\n",
       "│ 1724889602995114123 ┆ 1724889603051570615 ┆ 1724889603093912984 ┆ 0        │\n",
       "│ 1724889603996405400 ┆ 1724889604054027000 ┆ 1724889604097243200 ┆ 0        │\n",
       "│ 1724889604996802657 ┆ 1724889605064013285 ┆ 1724889605114421256 ┆ 0        │\n",
       "│ …                   ┆ …                   ┆ …                   ┆ …        │\n",
       "│ 1724975995996533148 ┆ 1724975996082665740 ┆ 1724975996147265184 ┆ 0        │\n",
       "│ 1724975996956210624 ┆ 1724975997021053120 ┆ 1724975997069684992 ┆ 0        │\n",
       "│ 1724975997956611480 ┆ 1724975998015057400 ┆ 1724975998058891840 ┆ 0        │\n",
       "│ 1724975998999567244 ┆ 1724975999061836220 ┆ 1724975999108537952 ┆ 0        │\n",
       "│ 1724975999997128781 ┆ 1724976000057643905 ┆ 1724976000103030248 ┆ 0        │\n",
       "└─────────────────────┴─────────────────────┴─────────────────────┴──────────┘"
      ]
     },
     "execution_count": 7,
     "metadata": {},
     "output_type": "execute_result"
    }
   ],
   "source": [
    "df_order_latency = pl.DataFrame(order_latency)\n",
    "df_order_latency"
   ]
  },
  {
   "cell_type": "markdown",
   "id": "0c0eb2a2-64dd-4d4a-93f6-0c52a4bdc142",
   "metadata": {},
   "source": [
    "Checks if latency has invalid negative values."
   ]
  },
  {
   "cell_type": "code",
   "execution_count": 8,
   "id": "542eace5-590e-4d30-a552-0cf0825885d5",
   "metadata": {},
   "outputs": [],
   "source": [
    "order_entry_latency = df_order_latency['exch_ts'] - df_order_latency['req_ts']\n",
    "order_resp_latency = df_order_latency['resp_ts'] - df_order_latency['exch_ts']"
   ]
  },
  {
   "cell_type": "code",
   "execution_count": 9,
   "id": "a64aad08-888f-48e7-85cc-1719ba3333b6",
   "metadata": {},
   "outputs": [
    {
     "data": {
      "text/plain": [
       "0"
      ]
     },
     "execution_count": 9,
     "metadata": {},
     "output_type": "execute_result"
    }
   ],
   "source": [
    "(order_entry_latency <= 0).sum()"
   ]
  },
  {
   "cell_type": "code",
   "execution_count": 10,
   "id": "7e770e94-4660-4b0b-827b-951a046d9529",
   "metadata": {},
   "outputs": [
    {
     "data": {
      "text/plain": [
       "0"
      ]
     },
     "execution_count": 10,
     "metadata": {},
     "output_type": "execute_result"
    }
   ],
   "source": [
    "(order_resp_latency <= 0).sum()"
   ]
  },
  {
   "cell_type": "markdown",
   "id": "18944b3a-747c-4c38-96e1-0ab6930e098c",
   "metadata": {},
   "source": [
    "Here, we wrap the entire process into a method with `njit` for increased speed."
   ]
  },
  {
   "cell_type": "code",
   "execution_count": 11,
   "id": "15b080d5-9e5f-4124-a83f-813bb2ff9414",
   "metadata": {},
   "outputs": [],
   "source": [
    "import numpy as np\n",
    "from numba import njit\n",
    "import polars as pl\n",
    "from hftbacktest import LOCAL_EVENT, EXCH_EVENT\n",
    "\n",
    "@njit\n",
    "def generate_order_latency_nb(data, order_latency, mul_entry, offset_entry, mul_resp, offset_resp):\n",
    "    for i in range(len(data)):\n",
    "        exch_ts = data[i].exch_ts\n",
    "        local_ts = data[i].local_ts\n",
    "        feed_latency = local_ts - exch_ts\n",
    "        order_entry_latency = mul_entry * feed_latency + offset_entry\n",
    "        order_resp_latency = mul_resp * feed_latency + offset_resp\n",
    "\n",
    "        req_ts = local_ts\n",
    "        order_exch_ts = req_ts + order_entry_latency\n",
    "        resp_ts = order_exch_ts + order_resp_latency\n",
    "\n",
    "        order_latency[i].req_ts = req_ts\n",
    "        order_latency[i].exch_ts = order_exch_ts\n",
    "        order_latency[i].resp_ts = resp_ts\n",
    "\n",
    "def generate_order_latency(feed_file, output_file = None, mul_entry = 1, offset_entry = 0, mul_resp = 1, offset_resp = 0):\n",
    "    data = np.load(feed_file)['data']\n",
    "    df = pl.DataFrame(data)\n",
    "    \n",
    "    df = df.filter(\n",
    "        (pl.col('ev') & EXCH_EVENT == EXCH_EVENT) & (pl.col('ev') & LOCAL_EVENT == LOCAL_EVENT)\n",
    "    ).with_columns(\n",
    "        pl.col('local_ts').alias('ts')\n",
    "    ).group_by_dynamic(\n",
    "        'ts', every='1000000000i'\n",
    "    ).agg(\n",
    "        pl.col('exch_ts').last(),\n",
    "        pl.col('local_ts').last()\n",
    "    ).drop('ts')\n",
    "    \n",
    "    data = df.to_numpy(structured=True)\n",
    "\n",
    "    order_latency = np.zeros(len(data), dtype=[('req_ts', 'i8'), ('exch_ts', 'i8'), ('resp_ts', 'i8'), ('_padding', 'i8')])\n",
    "    generate_order_latency_nb(data, order_latency, mul_entry, offset_entry, mul_resp, offset_resp)\n",
    "\n",
    "    if output_file is not None:\n",
    "        np.savez_compressed(output_file, data=order_latency)\n",
    "\n",
    "    return order_latency"
   ]
  },
  {
   "cell_type": "code",
   "execution_count": 12,
   "id": "09772349-cebb-4698-8c6f-b77cbd19f15b",
   "metadata": {},
   "outputs": [
    {
     "ename": "KeyboardInterrupt",
     "evalue": "",
     "output_type": "error",
     "traceback": [
      "\u001b[0;31m---------------------------------------------------------------------------\u001b[0m",
      "\u001b[0;31mKeyboardInterrupt\u001b[0m                         Traceback (most recent call last)",
      "Cell \u001b[0;32mIn[12], line 1\u001b[0m\n\u001b[0;32m----> 1\u001b[0m order_latency \u001b[38;5;241m=\u001b[39m generate_order_latency(\u001b[38;5;124m'\u001b[39m\u001b[38;5;124mgate/btc_usdt_20240829.npz\u001b[39m\u001b[38;5;124m'\u001b[39m, output_file\u001b[38;5;241m=\u001b[39m\u001b[38;5;124m'\u001b[39m\u001b[38;5;124mgate/feed_latency_20240829.npz\u001b[39m\u001b[38;5;124m'\u001b[39m, mul_entry\u001b[38;5;241m=\u001b[39m\u001b[38;5;241m4\u001b[39m, mul_resp\u001b[38;5;241m=\u001b[39m\u001b[38;5;241m3\u001b[39m)\n",
      "Cell \u001b[0;32mIn[11], line 25\u001b[0m, in \u001b[0;36mgenerate_order_latency\u001b[0;34m(feed_file, output_file, mul_entry, offset_entry, mul_resp, offset_resp)\u001b[0m\n\u001b[1;32m     23\u001b[0m \u001b[38;5;28;01mdef\u001b[39;00m \u001b[38;5;21mgenerate_order_latency\u001b[39m(feed_file, output_file \u001b[38;5;241m=\u001b[39m \u001b[38;5;28;01mNone\u001b[39;00m, mul_entry \u001b[38;5;241m=\u001b[39m \u001b[38;5;241m1\u001b[39m, offset_entry \u001b[38;5;241m=\u001b[39m \u001b[38;5;241m0\u001b[39m, mul_resp \u001b[38;5;241m=\u001b[39m \u001b[38;5;241m1\u001b[39m, offset_resp \u001b[38;5;241m=\u001b[39m \u001b[38;5;241m0\u001b[39m):\n\u001b[1;32m     24\u001b[0m     data \u001b[38;5;241m=\u001b[39m np\u001b[38;5;241m.\u001b[39mload(feed_file)[\u001b[38;5;124m'\u001b[39m\u001b[38;5;124mdata\u001b[39m\u001b[38;5;124m'\u001b[39m]\n\u001b[0;32m---> 25\u001b[0m     df \u001b[38;5;241m=\u001b[39m pl\u001b[38;5;241m.\u001b[39mDataFrame(data)\n\u001b[1;32m     27\u001b[0m     df \u001b[38;5;241m=\u001b[39m df\u001b[38;5;241m.\u001b[39mfilter(\n\u001b[1;32m     28\u001b[0m         (pl\u001b[38;5;241m.\u001b[39mcol(\u001b[38;5;124m'\u001b[39m\u001b[38;5;124mev\u001b[39m\u001b[38;5;124m'\u001b[39m) \u001b[38;5;241m&\u001b[39m EXCH_EVENT \u001b[38;5;241m==\u001b[39m EXCH_EVENT) \u001b[38;5;241m&\u001b[39m (pl\u001b[38;5;241m.\u001b[39mcol(\u001b[38;5;124m'\u001b[39m\u001b[38;5;124mev\u001b[39m\u001b[38;5;124m'\u001b[39m) \u001b[38;5;241m&\u001b[39m LOCAL_EVENT \u001b[38;5;241m==\u001b[39m LOCAL_EVENT)\n\u001b[1;32m     29\u001b[0m     )\u001b[38;5;241m.\u001b[39mwith_columns(\n\u001b[0;32m   (...)\u001b[0m\n\u001b[1;32m     35\u001b[0m         pl\u001b[38;5;241m.\u001b[39mcol(\u001b[38;5;124m'\u001b[39m\u001b[38;5;124mlocal_ts\u001b[39m\u001b[38;5;124m'\u001b[39m)\u001b[38;5;241m.\u001b[39mlast()\n\u001b[1;32m     36\u001b[0m     )\u001b[38;5;241m.\u001b[39mdrop(\u001b[38;5;124m'\u001b[39m\u001b[38;5;124mts\u001b[39m\u001b[38;5;124m'\u001b[39m)\n\u001b[1;32m     38\u001b[0m     data \u001b[38;5;241m=\u001b[39m df\u001b[38;5;241m.\u001b[39mto_numpy(structured\u001b[38;5;241m=\u001b[39m\u001b[38;5;28;01mTrue\u001b[39;00m)\n",
      "File \u001b[0;32m/opt/conda/lib/python3.12/site-packages/polars/dataframe/frame.py:384\u001b[0m, in \u001b[0;36mDataFrame.__init__\u001b[0;34m(self, data, schema, schema_overrides, strict, orient, infer_schema_length, nan_to_null)\u001b[0m\n\u001b[1;32m    379\u001b[0m     \u001b[38;5;28mself\u001b[39m\u001b[38;5;241m.\u001b[39m_df \u001b[38;5;241m=\u001b[39m series_to_pydf(\n\u001b[1;32m    380\u001b[0m         data, schema\u001b[38;5;241m=\u001b[39mschema, schema_overrides\u001b[38;5;241m=\u001b[39mschema_overrides, strict\u001b[38;5;241m=\u001b[39mstrict\n\u001b[1;32m    381\u001b[0m     )\n\u001b[1;32m    383\u001b[0m \u001b[38;5;28;01melif\u001b[39;00m _check_for_numpy(data) \u001b[38;5;129;01mand\u001b[39;00m \u001b[38;5;28misinstance\u001b[39m(data, np\u001b[38;5;241m.\u001b[39mndarray):\n\u001b[0;32m--> 384\u001b[0m     \u001b[38;5;28mself\u001b[39m\u001b[38;5;241m.\u001b[39m_df \u001b[38;5;241m=\u001b[39m numpy_to_pydf(\n\u001b[1;32m    385\u001b[0m         data,\n\u001b[1;32m    386\u001b[0m         schema\u001b[38;5;241m=\u001b[39mschema,\n\u001b[1;32m    387\u001b[0m         schema_overrides\u001b[38;5;241m=\u001b[39mschema_overrides,\n\u001b[1;32m    388\u001b[0m         strict\u001b[38;5;241m=\u001b[39mstrict,\n\u001b[1;32m    389\u001b[0m         orient\u001b[38;5;241m=\u001b[39morient,\n\u001b[1;32m    390\u001b[0m         nan_to_null\u001b[38;5;241m=\u001b[39mnan_to_null,\n\u001b[1;32m    391\u001b[0m     )\n\u001b[1;32m    393\u001b[0m \u001b[38;5;28;01melif\u001b[39;00m _check_for_pyarrow(data) \u001b[38;5;129;01mand\u001b[39;00m \u001b[38;5;28misinstance\u001b[39m(data, pa\u001b[38;5;241m.\u001b[39mTable):\n\u001b[1;32m    394\u001b[0m     \u001b[38;5;28mself\u001b[39m\u001b[38;5;241m.\u001b[39m_df \u001b[38;5;241m=\u001b[39m arrow_to_pydf(\n\u001b[1;32m    395\u001b[0m         data, schema\u001b[38;5;241m=\u001b[39mschema, schema_overrides\u001b[38;5;241m=\u001b[39mschema_overrides, strict\u001b[38;5;241m=\u001b[39mstrict\n\u001b[1;32m    396\u001b[0m     )\n",
      "File \u001b[0;32m/opt/conda/lib/python3.12/site-packages/polars/_utils/construction/dataframe.py:1329\u001b[0m, in \u001b[0;36mnumpy_to_pydf\u001b[0;34m(data, schema, schema_overrides, orient, strict, nan_to_null)\u001b[0m\n\u001b[1;32m   1326\u001b[0m \u001b[38;5;66;03m# Convert data to series\u001b[39;00m\n\u001b[1;32m   1327\u001b[0m \u001b[38;5;28;01mif\u001b[39;00m structured_array:\n\u001b[1;32m   1328\u001b[0m     data_series \u001b[38;5;241m=\u001b[39m [\n\u001b[0;32m-> 1329\u001b[0m         pl\u001b[38;5;241m.\u001b[39mSeries(\n\u001b[1;32m   1330\u001b[0m             name\u001b[38;5;241m=\u001b[39mseries_name,\n\u001b[1;32m   1331\u001b[0m             values\u001b[38;5;241m=\u001b[39mdata[record_name],\n\u001b[1;32m   1332\u001b[0m             dtype\u001b[38;5;241m=\u001b[39mschema_overrides\u001b[38;5;241m.\u001b[39mget(record_name),\n\u001b[1;32m   1333\u001b[0m             strict\u001b[38;5;241m=\u001b[39mstrict,\n\u001b[1;32m   1334\u001b[0m             nan_to_null\u001b[38;5;241m=\u001b[39mnan_to_null,\n\u001b[1;32m   1335\u001b[0m         )\u001b[38;5;241m.\u001b[39m_s\n\u001b[1;32m   1336\u001b[0m         \u001b[38;5;28;01mfor\u001b[39;00m series_name, record_name \u001b[38;5;129;01min\u001b[39;00m \u001b[38;5;28mzip\u001b[39m(column_names, record_names)\n\u001b[1;32m   1337\u001b[0m     ]\n\u001b[1;32m   1338\u001b[0m \u001b[38;5;28;01melif\u001b[39;00m shape \u001b[38;5;241m==\u001b[39m (\u001b[38;5;241m0\u001b[39m,):\n\u001b[1;32m   1339\u001b[0m     data_series \u001b[38;5;241m=\u001b[39m []\n",
      "File \u001b[0;32m/opt/conda/lib/python3.12/site-packages/polars/series/series.py:304\u001b[0m, in \u001b[0;36mSeries.__init__\u001b[0;34m(self, name, values, dtype, strict, nan_to_null)\u001b[0m\n\u001b[1;32m    301\u001b[0m     \u001b[38;5;28mself\u001b[39m\u001b[38;5;241m.\u001b[39m_s \u001b[38;5;241m=\u001b[39m sequence_to_pyseries(name, [], dtype\u001b[38;5;241m=\u001b[39mdtype)\n\u001b[1;32m    303\u001b[0m \u001b[38;5;28;01melif\u001b[39;00m _check_for_numpy(values) \u001b[38;5;129;01mand\u001b[39;00m \u001b[38;5;28misinstance\u001b[39m(values, np\u001b[38;5;241m.\u001b[39mndarray):\n\u001b[0;32m--> 304\u001b[0m     \u001b[38;5;28mself\u001b[39m\u001b[38;5;241m.\u001b[39m_s \u001b[38;5;241m=\u001b[39m numpy_to_pyseries(\n\u001b[1;32m    305\u001b[0m         name, values, strict\u001b[38;5;241m=\u001b[39mstrict, nan_to_null\u001b[38;5;241m=\u001b[39mnan_to_null\n\u001b[1;32m    306\u001b[0m     )\n\u001b[1;32m    307\u001b[0m     \u001b[38;5;28;01mif\u001b[39;00m values\u001b[38;5;241m.\u001b[39mdtype\u001b[38;5;241m.\u001b[39mtype \u001b[38;5;129;01min\u001b[39;00m [np\u001b[38;5;241m.\u001b[39mdatetime64, np\u001b[38;5;241m.\u001b[39mtimedelta64]:\n\u001b[1;32m    308\u001b[0m         \u001b[38;5;66;03m# cast to appropriate dtype, handling NaT values\u001b[39;00m\n\u001b[1;32m    309\u001b[0m         input_dtype \u001b[38;5;241m=\u001b[39m _resolve_temporal_dtype(\u001b[38;5;28;01mNone\u001b[39;00m, values\u001b[38;5;241m.\u001b[39mdtype)\n",
      "File \u001b[0;32m/opt/conda/lib/python3.12/site-packages/polars/_utils/construction/series.py:450\u001b[0m, in \u001b[0;36mnumpy_to_pyseries\u001b[0;34m(name, values, strict, nan_to_null)\u001b[0m\n\u001b[1;32m    442\u001b[0m \u001b[38;5;28;01mdef\u001b[39;00m \u001b[38;5;21mnumpy_to_pyseries\u001b[39m(\n\u001b[1;32m    443\u001b[0m     name: \u001b[38;5;28mstr\u001b[39m,\n\u001b[1;32m    444\u001b[0m     values: np\u001b[38;5;241m.\u001b[39mndarray[Any, Any],\n\u001b[0;32m   (...)\u001b[0m\n\u001b[1;32m    447\u001b[0m     nan_to_null: \u001b[38;5;28mbool\u001b[39m \u001b[38;5;241m=\u001b[39m \u001b[38;5;28;01mFalse\u001b[39;00m,\n\u001b[1;32m    448\u001b[0m ) \u001b[38;5;241m-\u001b[39m\u001b[38;5;241m>\u001b[39m PySeries:\n\u001b[1;32m    449\u001b[0m \u001b[38;5;250m    \u001b[39m\u001b[38;5;124;03m\"\"\"Construct a PySeries from a numpy array.\"\"\"\u001b[39;00m\n\u001b[0;32m--> 450\u001b[0m     values \u001b[38;5;241m=\u001b[39m np\u001b[38;5;241m.\u001b[39mascontiguousarray(values)\n\u001b[1;32m    452\u001b[0m     \u001b[38;5;28;01mif\u001b[39;00m values\u001b[38;5;241m.\u001b[39mndim \u001b[38;5;241m==\u001b[39m \u001b[38;5;241m1\u001b[39m:\n\u001b[1;32m    453\u001b[0m         values, dtype \u001b[38;5;241m=\u001b[39m numpy_values_and_dtype(values)\n",
      "\u001b[0;31mKeyboardInterrupt\u001b[0m: "
     ]
    }
   ],
   "source": [
    "order_latency = generate_order_latency('gate/btc_usdt_20240829.npz', output_file='gate/feed_latency_20240829.npz', mul_entry=4, mul_resp=3)"
   ]
  }
 ],
 "metadata": {
  "kernelspec": {
   "display_name": "Python 3 (ipykernel)",
   "language": "python",
   "name": "python3"
  },
  "language_info": {
   "codemirror_mode": {
    "name": "ipython",
    "version": 3
   },
   "file_extension": ".py",
   "mimetype": "text/x-python",
   "name": "python",
   "nbconvert_exporter": "python",
   "pygments_lexer": "ipython3",
   "version": "3.12.4"
  }
 },
 "nbformat": 4,
 "nbformat_minor": 5
}
